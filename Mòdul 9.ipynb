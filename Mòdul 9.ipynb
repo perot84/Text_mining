{
 "cells": [
  {
   "cell_type": "markdown",
   "id": "0f2bd524",
   "metadata": {},
   "source": [
    "\n",
    "- Exercici 1\n",
    "\n",
    "Agafa un text en anglès que vulguis, i calcula'n la freqüència de les paraules.\n",
    "\n",
    "- Exercici 2\n",
    "\n",
    "Treu les stopwords i realitza stemming al teu conjunt de dades.\n",
    "\n",
    "- Exercici 3\n",
    "\n",
    "Realitza sentiment analysis al teu conjunt de dades.\n"
   ]
  },
  {
   "cell_type": "code",
   "execution_count": 1,
   "id": "cec0c12e",
   "metadata": {},
   "outputs": [],
   "source": [
    "text= '''The world is a beautiful place, full of wonder and diversity. From the towering peaks of the Himalayas to the vast deserts of Africa, there is something for everyone to explore and discover. The natural world is truly awe-inspiring, and it never fails to amaze me how much beauty there is to be found on this planet. However, as much as I love nature, I also believe that there is just as much beauty to be found in the man-made world. From the towering skyscrapers of New York City to the ancient ruins of Rome, the human race has created some truly incredible things over the centuries. One of my favorite things about traveling is experiencing the different cultures that exist around the world. Whether it's learning about the rich history of Europe or trying new foods in Asia, every destination has its own unique character and charm. Of course, traveling isn't always easy. It can be challenging to navigate unfamiliar places, and it can be difficult to communicate with people who speak different languages. But despite these challenges, I believe that the rewards of travel far outweigh the difficulties. Perhaps one of the greatest things about travel is the way it opens our eyes to different perspectives. When we leave our comfort zones and immerse ourselves in new cultures, we are forced to confront our own biases and assumptions. We learn that the world is a lot more complex than we ever imagined, and that there is always more to learn and discover. In conclusion, while the world is full of challenges and difficulties, I believe that it is also an incredibly beautiful and fascinating place. Whether you're exploring the natural wonders of the earth or experiencing the rich diversity of human cultures, there is always something new and exciting to discover. I encourage everyone to take the time to travel and explore as much of the world as possible, for it will broaden your understanding and open your eyes to new possibilities.'''"
   ]
  },
  {
   "cell_type": "code",
   "execution_count": 2,
   "id": "a7d4a69e",
   "metadata": {},
   "outputs": [
    {
     "name": "stdout",
     "output_type": "stream",
     "text": [
      "['The world is a beautiful place, full of wonder and diversity.', 'From the towering peaks of the Himalayas to the vast deserts of Africa, there is something for everyone to explore and discover.', 'The natural world is truly awe-inspiring, and it never fails to amaze me how much beauty there is to be found on this planet.', 'However, as much as I love nature, I also believe that there is just as much beauty to be found in the man-made world.', 'From the towering skyscrapers of New York City to the ancient ruins of Rome, the human race has created some truly incredible things over the centuries.', 'One of my favorite things about traveling is experiencing the different cultures that exist around the world.', \"Whether it's learning about the rich history of Europe or trying new foods in Asia, every destination has its own unique character and charm.\", \"Of course, traveling isn't always easy.\", 'It can be challenging to navigate unfamiliar places, and it can be difficult to communicate with people who speak different languages.', 'But despite these challenges, I believe that the rewards of travel far outweigh the difficulties.', 'Perhaps one of the greatest things about travel is the way it opens our eyes to different perspectives.', 'When we leave our comfort zones and immerse ourselves in new cultures, we are forced to confront our own biases and assumptions.', 'We learn that the world is a lot more complex than we ever imagined, and that there is always more to learn and discover.', 'In conclusion, while the world is full of challenges and difficulties, I believe that it is also an incredibly beautiful and fascinating place.', \"Whether you're exploring the natural wonders of the earth or experiencing the rich diversity of human cultures, there is always something new and exciting to discover.\", 'I encourage everyone to take the time to travel and explore as much of the world as possible, for it will broaden your understanding and open your eyes to new possibilities.']\n"
     ]
    }
   ],
   "source": [
    "from nltk.tokenize import sent_tokenize\n",
    "tokenized_text=sent_tokenize(text)\n",
    "print(tokenized_text)"
   ]
  },
  {
   "cell_type": "code",
   "execution_count": 3,
   "id": "6486226b",
   "metadata": {},
   "outputs": [
    {
     "name": "stdout",
     "output_type": "stream",
     "text": [
      "['The', 'world', 'is', 'a', 'beautiful', 'place', ',', 'full', 'of', 'wonder', 'and', 'diversity', '.', 'From', 'the', 'towering', 'peaks', 'of', 'the', 'Himalayas', 'to', 'the', 'vast', 'deserts', 'of', 'Africa', ',', 'there', 'is', 'something', 'for', 'everyone', 'to', 'explore', 'and', 'discover', '.', 'The', 'natural', 'world', 'is', 'truly', 'awe-inspiring', ',', 'and', 'it', 'never', 'fails', 'to', 'amaze', 'me', 'how', 'much', 'beauty', 'there', 'is', 'to', 'be', 'found', 'on', 'this', 'planet', '.', 'However', ',', 'as', 'much', 'as', 'I', 'love', 'nature', ',', 'I', 'also', 'believe', 'that', 'there', 'is', 'just', 'as', 'much', 'beauty', 'to', 'be', 'found', 'in', 'the', 'man-made', 'world', '.', 'From', 'the', 'towering', 'skyscrapers', 'of', 'New', 'York', 'City', 'to', 'the', 'ancient', 'ruins', 'of', 'Rome', ',', 'the', 'human', 'race', 'has', 'created', 'some', 'truly', 'incredible', 'things', 'over', 'the', 'centuries', '.', 'One', 'of', 'my', 'favorite', 'things', 'about', 'traveling', 'is', 'experiencing', 'the', 'different', 'cultures', 'that', 'exist', 'around', 'the', 'world', '.', 'Whether', 'it', \"'s\", 'learning', 'about', 'the', 'rich', 'history', 'of', 'Europe', 'or', 'trying', 'new', 'foods', 'in', 'Asia', ',', 'every', 'destination', 'has', 'its', 'own', 'unique', 'character', 'and', 'charm', '.', 'Of', 'course', ',', 'traveling', 'is', \"n't\", 'always', 'easy', '.', 'It', 'can', 'be', 'challenging', 'to', 'navigate', 'unfamiliar', 'places', ',', 'and', 'it', 'can', 'be', 'difficult', 'to', 'communicate', 'with', 'people', 'who', 'speak', 'different', 'languages', '.', 'But', 'despite', 'these', 'challenges', ',', 'I', 'believe', 'that', 'the', 'rewards', 'of', 'travel', 'far', 'outweigh', 'the', 'difficulties', '.', 'Perhaps', 'one', 'of', 'the', 'greatest', 'things', 'about', 'travel', 'is', 'the', 'way', 'it', 'opens', 'our', 'eyes', 'to', 'different', 'perspectives', '.', 'When', 'we', 'leave', 'our', 'comfort', 'zones', 'and', 'immerse', 'ourselves', 'in', 'new', 'cultures', ',', 'we', 'are', 'forced', 'to', 'confront', 'our', 'own', 'biases', 'and', 'assumptions', '.', 'We', 'learn', 'that', 'the', 'world', 'is', 'a', 'lot', 'more', 'complex', 'than', 'we', 'ever', 'imagined', ',', 'and', 'that', 'there', 'is', 'always', 'more', 'to', 'learn', 'and', 'discover', '.', 'In', 'conclusion', ',', 'while', 'the', 'world', 'is', 'full', 'of', 'challenges', 'and', 'difficulties', ',', 'I', 'believe', 'that', 'it', 'is', 'also', 'an', 'incredibly', 'beautiful', 'and', 'fascinating', 'place', '.', 'Whether', 'you', \"'re\", 'exploring', 'the', 'natural', 'wonders', 'of', 'the', 'earth', 'or', 'experiencing', 'the', 'rich', 'diversity', 'of', 'human', 'cultures', ',', 'there', 'is', 'always', 'something', 'new', 'and', 'exciting', 'to', 'discover', '.', 'I', 'encourage', 'everyone', 'to', 'take', 'the', 'time', 'to', 'travel', 'and', 'explore', 'as', 'much', 'of', 'the', 'world', 'as', 'possible', ',', 'for', 'it', 'will', 'broaden', 'your', 'understanding', 'and', 'open', 'your', 'eyes', 'to', 'new', 'possibilities', '.']\n"
     ]
    }
   ],
   "source": [
    "from nltk.tokenize import word_tokenize\n",
    "tokenized_word=word_tokenize(text)\n",
    "print(tokenized_word)"
   ]
  },
  {
   "cell_type": "code",
   "execution_count": 4,
   "id": "8658f882",
   "metadata": {},
   "outputs": [
    {
     "name": "stdout",
     "output_type": "stream",
     "text": [
      "<FreqDist with 176 samples and 369 outcomes>\n"
     ]
    }
   ],
   "source": [
    "from nltk.probability import FreqDist\n",
    "fdist = FreqDist(tokenized_word)\n",
    "print(fdist)"
   ]
  },
  {
   "cell_type": "markdown",
   "id": "f4a17b5a",
   "metadata": {},
   "source": [
    "Calculem la freqüència de paraules:"
   ]
  },
  {
   "cell_type": "code",
   "execution_count": 5,
   "id": "6b363d67",
   "metadata": {},
   "outputs": [
    {
     "data": {
      "text/plain": [
       "[('the', 22),\n",
       " (',', 16),\n",
       " ('.', 16),\n",
       " ('to', 15),\n",
       " ('and', 14),\n",
       " ('is', 13),\n",
       " ('of', 13),\n",
       " ('world', 7),\n",
       " ('it', 6),\n",
       " ('that', 6)]"
      ]
     },
     "execution_count": 5,
     "metadata": {},
     "output_type": "execute_result"
    }
   ],
   "source": [
    "fdist.most_common(10)"
   ]
  },
  {
   "cell_type": "code",
   "execution_count": 6,
   "id": "3574484f",
   "metadata": {},
   "outputs": [
    {
     "data": {
      "image/png": "[encoded data removed]",
      "text/plain": [
       "<Figure size 432x288 with 1 Axes>"
      ]
     },
     "metadata": {
      "needs_background": "light"
     },
     "output_type": "display_data"
    }
   ],
   "source": [
    "# Frequency Distribution Plot\n",
    "import matplotlib.pyplot as plt\n",
    "fdist.plot(30,cumulative=False)\n",
    "plt.show()"
   ]
  },
  {
   "cell_type": "code",
   "execution_count": 7,
   "id": "0f9548bc",
   "metadata": {},
   "outputs": [],
   "source": [
    "from nltk.corpus import stopwords\n",
    "stop_words=set(stopwords.words(\"english\"))"
   ]
  },
  {
   "cell_type": "markdown",
   "id": "f282e54a",
   "metadata": {},
   "source": [
    "Treiem les stop_words"
   ]
  },
  {
   "cell_type": "code",
   "execution_count": 8,
   "id": "77ee7826",
   "metadata": {},
   "outputs": [
    {
     "name": "stdout",
     "output_type": "stream",
     "text": [
      "Filterd Sentence: ['The', 'world', 'beautiful', 'place', ',', 'full', 'wonder', 'diversity', '.', 'From', 'towering', 'peaks', 'Himalayas', 'vast', 'deserts', 'Africa', ',', 'something', 'everyone', 'explore', 'discover', '.', 'The', 'natural', 'world', 'truly', 'awe-inspiring', ',', 'never', 'fails', 'amaze', 'much', 'beauty', 'found', 'planet', '.', 'However', ',', 'much', 'I', 'love', 'nature', ',', 'I', 'also', 'believe', 'much', 'beauty', 'found', 'man-made', 'world', '.', 'From', 'towering', 'skyscrapers', 'New', 'York', 'City', 'ancient', 'ruins', 'Rome', ',', 'human', 'race', 'created', 'truly', 'incredible', 'things', 'centuries', '.', 'One', 'favorite', 'things', 'traveling', 'experiencing', 'different', 'cultures', 'exist', 'around', 'world', '.', 'Whether', \"'s\", 'learning', 'rich', 'history', 'Europe', 'trying', 'new', 'foods', 'Asia', ',', 'every', 'destination', 'unique', 'character', 'charm', '.', 'Of', 'course', ',', 'traveling', \"n't\", 'always', 'easy', '.', 'It', 'challenging', 'navigate', 'unfamiliar', 'places', ',', 'difficult', 'communicate', 'people', 'speak', 'different', 'languages', '.', 'But', 'despite', 'challenges', ',', 'I', 'believe', 'rewards', 'travel', 'far', 'outweigh', 'difficulties', '.', 'Perhaps', 'one', 'greatest', 'things', 'travel', 'way', 'opens', 'eyes', 'different', 'perspectives', '.', 'When', 'leave', 'comfort', 'zones', 'immerse', 'new', 'cultures', ',', 'forced', 'confront', 'biases', 'assumptions', '.', 'We', 'learn', 'world', 'lot', 'complex', 'ever', 'imagined', ',', 'always', 'learn', 'discover', '.', 'In', 'conclusion', ',', 'world', 'full', 'challenges', 'difficulties', ',', 'I', 'believe', 'also', 'incredibly', 'beautiful', 'fascinating', 'place', '.', 'Whether', \"'re\", 'exploring', 'natural', 'wonders', 'earth', 'experiencing', 'rich', 'diversity', 'human', 'cultures', ',', 'always', 'something', 'new', 'exciting', 'discover', '.', 'I', 'encourage', 'everyone', 'take', 'time', 'travel', 'explore', 'much', 'world', 'possible', ',', 'broaden', 'understanding', 'open', 'eyes', 'new', 'possibilities', '.']\n"
     ]
    }
   ],
   "source": [
    "filtered_sent=[]\n",
    "for w in tokenized_word:\n",
    "    if w not in stop_words:\n",
    "        filtered_sent.append(w)\n",
    "print(\"Filterd Sentence:\",filtered_sent)"
   ]
  },
  {
   "cell_type": "markdown",
   "id": "e18b7ce9",
   "metadata": {},
   "source": [
    "Fem stemming"
   ]
  },
  {
   "cell_type": "code",
   "execution_count": 9,
   "id": "d47aed86",
   "metadata": {},
   "outputs": [
    {
     "name": "stdout",
     "output_type": "stream",
     "text": [
      "Stemmed Sentence: ['the', 'world', 'beauti', 'place', ',', 'full', 'wonder', 'divers', '.', 'from', 'tower', 'peak', 'himalaya', 'vast', 'desert', 'africa', ',', 'someth', 'everyon', 'explor', 'discov', '.', 'the', 'natur', 'world', 'truli', 'awe-inspir', ',', 'never', 'fail', 'amaz', 'much', 'beauti', 'found', 'planet', '.', 'howev', ',', 'much', 'i', 'love', 'natur', ',', 'i', 'also', 'believ', 'much', 'beauti', 'found', 'man-mad', 'world', '.', 'from', 'tower', 'skyscrap', 'new', 'york', 'citi', 'ancient', 'ruin', 'rome', ',', 'human', 'race', 'creat', 'truli', 'incred', 'thing', 'centuri', '.', 'one', 'favorit', 'thing', 'travel', 'experienc', 'differ', 'cultur', 'exist', 'around', 'world', '.', 'whether', \"'s\", 'learn', 'rich', 'histori', 'europ', 'tri', 'new', 'food', 'asia', ',', 'everi', 'destin', 'uniqu', 'charact', 'charm', '.', 'of', 'cours', ',', 'travel', \"n't\", 'alway', 'easi', '.', 'it', 'challeng', 'navig', 'unfamiliar', 'place', ',', 'difficult', 'commun', 'peopl', 'speak', 'differ', 'languag', '.', 'but', 'despit', 'challeng', ',', 'i', 'believ', 'reward', 'travel', 'far', 'outweigh', 'difficulti', '.', 'perhap', 'one', 'greatest', 'thing', 'travel', 'way', 'open', 'eye', 'differ', 'perspect', '.', 'when', 'leav', 'comfort', 'zone', 'immers', 'new', 'cultur', ',', 'forc', 'confront', 'bias', 'assumpt', '.', 'we', 'learn', 'world', 'lot', 'complex', 'ever', 'imagin', ',', 'alway', 'learn', 'discov', '.', 'in', 'conclus', ',', 'world', 'full', 'challeng', 'difficulti', ',', 'i', 'believ', 'also', 'incred', 'beauti', 'fascin', 'place', '.', 'whether', \"'re\", 'explor', 'natur', 'wonder', 'earth', 'experienc', 'rich', 'divers', 'human', 'cultur', ',', 'alway', 'someth', 'new', 'excit', 'discov', '.', 'i', 'encourag', 'everyon', 'take', 'time', 'travel', 'explor', 'much', 'world', 'possibl', ',', 'broaden', 'understand', 'open', 'eye', 'new', 'possibl', '.']\n"
     ]
    }
   ],
   "source": [
    "# Stemming\n",
    "from nltk.stem import PorterStemmer\n",
    "from nltk.tokenize import sent_tokenize, word_tokenize\n",
    "\n",
    "ps = PorterStemmer()\n",
    "\n",
    "stemmed_words=[]\n",
    "for w in filtered_sent:\n",
    "    stemmed_words.append(ps.stem(w))\n",
    "\n",
    "print(\"Stemmed Sentence:\",stemmed_words)"
   ]
  },
  {
   "cell_type": "markdown",
   "id": "4851d030",
   "metadata": {},
   "source": [
    "Fem anàlisis de sentiment"
   ]
  },
  {
   "cell_type": "code",
   "execution_count": 10,
   "id": "665bff33",
   "metadata": {},
   "outputs": [
    {
     "name": "stdout",
     "output_type": "stream",
     "text": [
      "{'neg': 0.06, 'neu': 0.766, 'pos': 0.174, 'compound': 0.9931}\n"
     ]
    }
   ],
   "source": [
    "from nltk.sentiment.vader import SentimentIntensityAnalyzer\n",
    "sid = SentimentIntensityAnalyzer()\n",
    "resultados= sid.polarity_scores(text)\n",
    "print (resultados)"
   ]
  },
  {
   "cell_type": "markdown",
   "id": "949688d5",
   "metadata": {},
   "source": [
    "Segons l'anàlisi de sentiment podem extreure que és un text força positiu, ja que té una puntuació total de 0.9931"
   ]
  },
  {
   "cell_type": "code",
   "execution_count": null,
   "id": "c4982cf0",
   "metadata": {},
   "outputs": [],
   "source": []
  }
 ],
 "metadata": {
  "kernelspec": {
   "display_name": "Python 3 (ipykernel)",
   "language": "python",
   "name": "python3"
  },
  "language_info": {
   "codemirror_mode": {
    "name": "ipython",
    "version": 3
   },
   "file_extension": ".py",
   "mimetype": "text/x-python",
   "name": "python",
   "nbconvert_exporter": "python",
   "pygments_lexer": "ipython3",
   "version": "3.8.10"
  },
  "nbTranslate": {
   "displayLangs": [
    "*"
   ],
   "hotkey": "alt-t",
   "langInMainMenu": true,
   "sourceLang": "en",
   "targetLang": "fr",
   "useGoogleTranslate": true
  }
 },
 "nbformat": 4,
 "nbformat_minor": 5
}
